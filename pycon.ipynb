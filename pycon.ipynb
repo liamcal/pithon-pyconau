{
 "cells": [
  {
   "cell_type": "markdown",
   "metadata": {
    "nbpresent": {
     "id": "5164b8f7-49f0-4f39-bd64-e8ccb87f146f"
    },
    "slideshow": {
     "slide_type": "slide"
    }
   },
   "source": [
    "# Pi-thon: Teaching Maths with Python!\n",
    "## Liam Callaway (@liamcallaway)\n",
    "## PyCon AU 2018"
   ]
  },
  {
   "cell_type": "markdown",
   "metadata": {
    "slideshow": {
     "slide_type": "slide"
    }
   },
   "source": [
    "## Who is this guy?\n",
    "<img src=\"static/me.png\" style=\"width:30%;height:30%;\">"
   ]
  },
  {
   "cell_type": "markdown",
   "metadata": {
    "slideshow": {
     "slide_type": "slide"
    }
   },
   "source": [
    "## Hi :D\n",
    "\n",
    "- Graduate from University of Tasmania (BSc/BComp)\n",
    "- Software Developer at WiseTech Global\n",
    "- Tutor at NCSS and previously at UTAS\n",
    "- Fan of Rubik's cubes, bad jokes, soft-toys, and the Oxford Comma\n",
    "- @liamcallaway on twitter"
   ]
  },
  {
   "cell_type": "markdown",
   "metadata": {
    "slideshow": {
     "slide_type": "slide"
    }
   },
   "source": [
    "## A brief anecdote..."
   ]
  },
  {
   "cell_type": "markdown",
   "metadata": {
    "slideshow": {
     "slide_type": "slide"
    }
   },
   "source": [
    "## Computational Science/Discrete Mathematics with Applications\n",
    "- 1st year unit for students studying programming or mathematics\n",
    "- Provides an introduction to set theory, logic, combinatorics, number theory, etc.\n",
    "  - With practical implementations in Python"
   ]
  },
  {
   "cell_type": "markdown",
   "metadata": {
    "slideshow": {
     "slide_type": "subslide"
    }
   },
   "source": [
    "- Content is the same for both courses\n",
    "    - All students attend lectures and tutorials for both mathematics and programming content"
   ]
  },
  {
   "cell_type": "markdown",
   "metadata": {
    "slideshow": {
     "slide_type": "slide"
    }
   },
   "source": [
    "# Do I have to learn maths...?"
   ]
  },
  {
   "cell_type": "markdown",
   "metadata": {
    "slideshow": {
     "slide_type": "fragment"
    }
   },
   "source": [
    "# Do I have to learn programming...?"
   ]
  },
  {
   "cell_type": "markdown",
   "metadata": {
    "slideshow": {
     "slide_type": "slide"
    }
   },
   "source": [
    "# ...No..."
   ]
  },
  {
   "cell_type": "markdown",
   "metadata": {
    "slideshow": {
     "slide_type": "fragment"
    }
   },
   "source": [
    "## ...but you should!"
   ]
  },
  {
   "cell_type": "markdown",
   "metadata": {
    "slideshow": {
     "slide_type": "fragment"
    }
   },
   "source": [
    "## and this course is a good way to get started."
   ]
  },
  {
   "cell_type": "markdown",
   "metadata": {
    "nbpresent": {
     "id": "5a22be03-d9cf-4f17-8e25-3f2460d26f80"
    },
    "slideshow": {
     "slide_type": "slide"
    }
   },
   "source": [
    "## So Python is pretty great right?"
   ]
  },
  {
   "cell_type": "markdown",
   "metadata": {},
   "source": [
    "- Clean\n",
    "- Expressive\n",
    "- Interactive\n",
    "- Portable\n",
    "- Batteries Included!"
   ]
  },
  {
   "cell_type": "markdown",
   "metadata": {
    "slideshow": {
     "slide_type": "slide"
    }
   },
   "source": [
    "## The Zen of Python (... and Maths)\n",
    "`>>> import this`"
   ]
  },
  {
   "cell_type": "markdown",
   "metadata": {
    "slideshow": {
     "slide_type": "-"
    }
   },
   "source": [
    "- Beautiful is better than ugly.\n",
    "- Simple is better than complex.\n",
    "- Sparse is better than dense.\n",
    "- Readability counts.\n",
    "- Practicality beats purity."
   ]
  },
  {
   "cell_type": "markdown",
   "metadata": {
    "slideshow": {
     "slide_type": "slide"
    }
   },
   "source": [
    "# \"Getting hands-on with Python is a great way to learn some maths!\""
   ]
  },
  {
   "cell_type": "markdown",
   "metadata": {
    "slideshow": {
     "slide_type": "fragment"
    }
   },
   "source": [
    "but also..."
   ]
  },
  {
   "cell_type": "markdown",
   "metadata": {
    "slideshow": {
     "slide_type": "fragment"
    }
   },
   "source": [
    "# \"Getting hands-on with maths is a great way to learn some Python!\""
   ]
  },
  {
   "cell_type": "markdown",
   "metadata": {
    "slideshow": {
     "slide_type": "slide"
    }
   },
   "source": [
    "# Let's look at some examples..."
   ]
  },
  {
   "cell_type": "markdown",
   "metadata": {
    "nbpresent": {
     "id": "4763b637-96be-4142-b006-744ea6d2daf7"
    },
    "slideshow": {
     "slide_type": "slide"
    }
   },
   "source": [
    "# Set Theory\n",
    "\n",
    "<img src=\"static/sets.jpg\" style=\"display:block;margin-left:auto;margin-right:auto;width:50%;height:50%;\">"
   ]
  },
  {
   "cell_type": "markdown",
   "metadata": {
    "nbpresent": {
     "id": "b02232e5-6f8c-4d88-841e-8d3d563686ab"
    },
    "slideshow": {
     "slide_type": "slide"
    }
   },
   "source": [
    "# What is a set?"
   ]
  },
  {
   "cell_type": "markdown",
   "metadata": {
    "nbpresent": {
     "id": "9f4cba9b-a11b-453b-aaae-4c7559ba0717"
    },
    "slideshow": {
     "slide_type": "fragment"
    }
   },
   "source": [
    "- A collection of things that **belong** to a group\n",
    "- Defined by some property/attribute\n",
    "- Unordered\n",
    "- Repetitions are irrelevant"
   ]
  },
  {
   "cell_type": "markdown",
   "metadata": {
    "nbpresent": {
     "id": "cbe427b1-0c5e-4c4c-b4c2-d9f77ed1a687"
    },
    "slideshow": {
     "slide_type": "slide"
    }
   },
   "source": [
    "## Set Notation"
   ]
  },
  {
   "cell_type": "markdown",
   "metadata": {
    "nbpresent": {
     "id": "ac5315ae-1e83-4bb0-b5ee-a37873fe77b7"
    },
    "slideshow": {
     "slide_type": "-"
    }
   },
   "source": [
    "There are two main methods for defining a set:\n",
    "1. List format:  $\\{0, 2, 4, 6, 8\\}, \\{0, 1, 4, 9, \\dots \\}$\n",
    "2. Defining property format: $\\{2x \\mid 0 \\le x \\lt 5 \\}, \\{x^2 \\mid x \\in\t\\mathbb{N}\\}$\n",
    "\n",
    "So how do we do that in python?"
   ]
  },
  {
   "cell_type": "markdown",
   "metadata": {
    "slideshow": {
     "slide_type": "slide"
    }
   },
   "source": [
    "## Defining a Set in Python"
   ]
  },
  {
   "cell_type": "code",
   "execution_count": 1,
   "metadata": {
    "nbpresent": {
     "id": "5ad2113f-abc6-416e-bf5c-57ef38dace03"
    },
    "scrolled": true,
    "slideshow": {
     "slide_type": "-"
    }
   },
   "outputs": [
    {
     "name": "stdout",
     "output_type": "stream",
     "text": [
      "A: {0, 8, 2, 4, 6}\n",
      "B: {0, 8, 2, 4, 6}\n",
      "C: set()\n"
     ]
    }
   ],
   "source": [
    "a = {0, 2, 4, 6, 8} #list format\n",
    "b = {2*x for x in range(5)} #defining property format\n",
    "c = set() #not {}\n",
    "print(\"A:\", a)\n",
    "print(\"B:\", b)\n",
    "print(\"C:\", c)"
   ]
  },
  {
   "cell_type": "markdown",
   "metadata": {
    "nbpresent": {
     "id": "58022fb5-b0c5-4dc1-8fa3-4f8d49411f8f"
    },
    "slideshow": {
     "slide_type": "slide"
    }
   },
   "source": [
    "## Set Operations\n",
    "\n",
    "Set operations allow us to use sets to answer specific questions"
   ]
  },
  {
   "cell_type": "markdown",
   "metadata": {
    "nbpresent": {
     "id": "95e1a9b9-a2b8-49ac-8f1c-ecfc9fa7e202"
    },
    "slideshow": {
     "slide_type": "fragment"
    }
   },
   "source": [
    "- Who has attended either Pycon AU or Linux.Conf\n",
    "- Which students study both mathematics and computer science?\n",
    "- How many people came to the keynote but didn't bring a coffee?"
   ]
  },
  {
   "cell_type": "markdown",
   "metadata": {
    "nbpresent": {
     "id": "aa186c7f-af2f-4324-ad21-77cab32883ce"
    },
    "slideshow": {
     "slide_type": "slide"
    }
   },
   "source": [
    "## Union"
   ]
  },
  {
   "cell_type": "markdown",
   "metadata": {
    "nbpresent": {
     "id": "2b377fef-ecfe-471e-b6c3-6d495675d817"
    },
    "slideshow": {
     "slide_type": "-"
    }
   },
   "source": [
    "The set of elements that are in A or B\n",
    "\n",
    "Denoted: $A \\cup B$\n",
    "\n",
    "$\\{1, 3, 5, 7\\} \\cup \\{ 3, 4, 5\\} = \\{1, 3, 4, 5, 7\\}$\n",
    "<img src=\"static/union.png\" style=\"width:30%;height:30%;\">"
   ]
  },
  {
   "cell_type": "markdown",
   "metadata": {
    "nbpresent": {
     "id": "6fdbed02-dd96-4df3-8296-b888557b7495"
    },
    "slideshow": {
     "slide_type": "slide"
    }
   },
   "source": [
    "## Intersection"
   ]
  },
  {
   "cell_type": "markdown",
   "metadata": {
    "nbpresent": {
     "id": "48d330c6-7964-442f-a7d1-4cbbc94f1b25"
    },
    "slideshow": {
     "slide_type": "-"
    }
   },
   "source": [
    "The set of elements that are in A and B. \n",
    "\n",
    "Denoted: $A \\cap B$\n",
    "\n",
    "$\\{0, 2, 4, 6, 8\\} \\cap \\{0, 1, 4, 9\\} = \\{0, 4\\}$\n",
    "<img src=\"static/intersection.png\" style=\"width:30%;height:30%;\">"
   ]
  },
  {
   "cell_type": "markdown",
   "metadata": {
    "slideshow": {
     "slide_type": "slide"
    }
   },
   "source": [
    "## Difference"
   ]
  },
  {
   "cell_type": "markdown",
   "metadata": {
    "slideshow": {
     "slide_type": "-"
    }
   },
   "source": [
    "The set of elements that are in A and not B. \n",
    "\n",
    "Denoted: $A \\setminus B$\n",
    "\n",
    "$\\{0, 2, 4, 6, 8\\} \\setminus \\{0, 1, 4, 9\\} = \\{2, 6, 8\\}$\n",
    "<img src=\"static/difference.png\" style=\"width:30%;height:30%;\">"
   ]
  },
  {
   "cell_type": "markdown",
   "metadata": {
    "nbpresent": {
     "id": "dccafd36-72a0-4550-961f-b9674ade2c8f"
    },
    "slideshow": {
     "slide_type": "slide"
    }
   },
   "source": [
    "## Set Operations in Python - Function Notation"
   ]
  },
  {
   "cell_type": "code",
   "execution_count": 2,
   "metadata": {
    "nbpresent": {
     "id": "9a00820c-8f78-4399-94a5-03ae52fd7e09"
    },
    "slideshow": {
     "slide_type": "-"
    }
   },
   "outputs": [
    {
     "name": "stdout",
     "output_type": "stream",
     "text": [
      "A union B = {1, 3, 4, 5, 7}\n",
      "A intersect B = {3, 5}\n",
      "A difference B = {1, 7}\n"
     ]
    }
   ],
   "source": [
    "a = {1, 3, 5, 7}\n",
    "b = {3, 4, 5}\n",
    "\n",
    "union_ab = a.union(b)\n",
    "intesect_ab = a.intersection(b)\n",
    "difference_ab = a.difference(b)\n",
    "\n",
    "print('A union B = {}'.format(union_ab))\n",
    "print('A intersect B = {}'.format(intesect_ab))\n",
    "print('A difference B = {}'.format(difference_ab))"
   ]
  },
  {
   "cell_type": "markdown",
   "metadata": {
    "nbpresent": {
     "id": "fb4634da-9820-48ed-a726-d172da92a606"
    },
    "slideshow": {
     "slide_type": "slide"
    }
   },
   "source": [
    "## Set Operations in Python - Operator Notation"
   ]
  },
  {
   "cell_type": "code",
   "execution_count": 3,
   "metadata": {
    "nbpresent": {
     "id": "6d86e269-cce2-40a2-afb6-03d2610ad97c"
    },
    "slideshow": {
     "slide_type": "-"
    }
   },
   "outputs": [
    {
     "name": "stdout",
     "output_type": "stream",
     "text": [
      "A union B = {1, 3, 4, 5, 7}\n",
      "A intersect B = {3, 5}\n",
      "A difference B = {1, 7}\n"
     ]
    }
   ],
   "source": [
    "a = {1, 3, 5, 7}\n",
    "b = {3, 4, 5}\n",
    "\n",
    "union_ab = a | b\n",
    "intesect_ab = a & b\n",
    "difference_ab = a - b\n",
    "\n",
    "print('A union B = {}'.format(union_ab))\n",
    "print('A intersect B = {}'.format(intesect_ab))\n",
    "print('A difference B = {}'.format(difference_ab))"
   ]
  },
  {
   "cell_type": "markdown",
   "metadata": {
    "slideshow": {
     "slide_type": "slide"
    }
   },
   "source": [
    "## Why is this useful?\n",
    "- Operator syntax is closer to that used in mathematics\n",
    "- Suggests a conceptual link to boolean algebra/logic\n",
    "- Potential to explore operator overloading/double underscore methods"
   ]
  },
  {
   "cell_type": "markdown",
   "metadata": {
    "slideshow": {
     "slide_type": "slide"
    }
   },
   "source": [
    "## Other Python Set Operators"
   ]
  },
  {
   "cell_type": "markdown",
   "metadata": {
    "slideshow": {
     "slide_type": "-"
    }
   },
   "source": [
    " - Subset $(\\subseteq)$:\n",
    "     - `a.issubset(b)` or `a <= b`\n",
    " - Superset $(\\supseteq)$:\n",
    "     - `a.issuperset(b)` or `a >= b`\n",
    " - Symmetric Difference $(\\bigtriangleup)$:\n",
    "     - `a.symmetric_difference(b)` or `a ^ b`"
   ]
  },
  {
   "cell_type": "markdown",
   "metadata": {
    "slideshow": {
     "slide_type": "slide"
    }
   },
   "source": [
    "## Set Membership"
   ]
  },
  {
   "cell_type": "markdown",
   "metadata": {
    "slideshow": {
     "slide_type": "fragment"
    }
   },
   "source": [
    "If an item $x$ belongs to a set $A$ , we say \"$x$ is an element of $A$\".\n",
    "\n",
    "Denoted: $x \\in A$ (or conversely $y \\notin A$)\n",
    "\n",
    "$ 4 \\in \\{0, 1, 4, 9\\}$, $102 \\notin \\{0, 2, 4, 6, \\dots, 100\\}$"
   ]
  },
  {
   "cell_type": "markdown",
   "metadata": {
    "slideshow": {
     "slide_type": "slide"
    }
   },
   "source": [
    "## Set Membership in Python"
   ]
  },
  {
   "cell_type": "markdown",
   "metadata": {
    "slideshow": {
     "slide_type": "fragment"
    }
   },
   "source": [
    "Just use the `in` keyword!"
   ]
  },
  {
   "cell_type": "code",
   "execution_count": 4,
   "metadata": {
    "scrolled": true
   },
   "outputs": [
    {
     "name": "stdout",
     "output_type": "stream",
     "text": [
      "4 in a: True\n",
      "102 in b: False\n"
     ]
    }
   ],
   "source": [
    "a = {0, 1, 4, 9}\n",
    "b = {2*x for x in range(51)}\n",
    "print(\"4 in a: {}\".format(4 in a))\n",
    "print(\"102 in b: {}\".format(102 in b))"
   ]
  },
  {
   "cell_type": "markdown",
   "metadata": {
    "slideshow": {
     "slide_type": "slide"
    }
   },
   "source": [
    "## Hashsets"
   ]
  },
  {
   "cell_type": "markdown",
   "metadata": {
    "slideshow": {
     "slide_type": "fragment"
    }
   },
   "source": [
    "Store elements based on a hash value\n",
    "- Unordered\n",
    "- No duplicates\n",
    "- Instant lookup"
   ]
  },
  {
   "cell_type": "markdown",
   "metadata": {
    "nbpresent": {
     "id": "72f7c7d7-612b-4ff5-936e-61fef7869457"
    },
    "slideshow": {
     "slide_type": "slide"
    }
   },
   "source": [
    "# Combinatorics\n",
    "<img src=\"static/combinatorics.jpeg\" style=\"display:block;margin-left:auto;margin-right:auto;width:40%;height:40%;\">"
   ]
  },
  {
   "cell_type": "markdown",
   "metadata": {
    "slideshow": {
     "slide_type": "slide"
    }
   },
   "source": [
    "## What is Combinatorics?\n",
    "\n",
    "Determining different ways elements of a collection can be *combined*\n"
   ]
  },
  {
   "cell_type": "markdown",
   "metadata": {
    "slideshow": {
     "slide_type": "fragment"
    }
   },
   "source": [
    "- Many intuitive real-world examples\n",
    "- Relevant to many computer science problems\n",
    "- Builds upon, and links to, many other disciplines of mathematics"
   ]
  },
  {
   "cell_type": "markdown",
   "metadata": {
    "slideshow": {
     "slide_type": "slide"
    }
   },
   "source": [
    "## Permutations and Combinations"
   ]
  },
  {
   "cell_type": "markdown",
   "metadata": {
    "slideshow": {
     "slide_type": "fragment"
    }
   },
   "source": [
    "Given a collection of items, how many ways can we select a subset of them?\n",
    "\n",
    "Does the order matter?\n",
    "- If so: **Permutations**\n",
    "- If not: **Combinations**"
   ]
  },
  {
   "cell_type": "markdown",
   "metadata": {
    "slideshow": {
     "slide_type": "slide"
    }
   },
   "source": [
    "## Permutations"
   ]
  },
  {
   "cell_type": "markdown",
   "metadata": {
    "slideshow": {
     "slide_type": "-"
    }
   },
   "source": [
    "Often conceptualised as *\"How many ways can we arrange n items?\"*, eg.\n",
    "- Books on a bookshelf\n",
    "- Classes in a timetable\n",
    "- Security code/PIN"
   ]
  },
  {
   "cell_type": "markdown",
   "metadata": {
    "slideshow": {
     "slide_type": "slide"
    }
   },
   "source": [
    "## Calculating the Number of Permutations"
   ]
  },
  {
   "cell_type": "markdown",
   "metadata": {
    "slideshow": {
     "slide_type": "-"
    }
   },
   "source": [
    "Often notated as: \n",
    "\n",
    "$ ^{n} P_{k} = P(n,k) = \\frac{n!}{(n-k)!}$\n",
    "\n",
    "Where\n",
    "- $n$: Number of items available\n",
    "- $k$: Number of items chosen\n",
    "\n"
   ]
  },
  {
   "cell_type": "markdown",
   "metadata": {
    "slideshow": {
     "slide_type": "slide"
    }
   },
   "source": [
    "## Combinations"
   ]
  },
  {
   "cell_type": "markdown",
   "metadata": {
    "slideshow": {
     "slide_type": "-"
    }
   },
   "source": [
    "Often conceptualisation as *\"How many ways can we choose n items?\"*, eg.\n",
    "- Selecting books to feature in a catalogue\n",
    "- Selecting classes to enroll\n",
    "- Choosing lottery numbers"
   ]
  },
  {
   "cell_type": "markdown",
   "metadata": {
    "slideshow": {
     "slide_type": "slide"
    }
   },
   "source": [
    "## Calculating the Number of Combinations"
   ]
  },
  {
   "cell_type": "markdown",
   "metadata": {
    "slideshow": {
     "slide_type": "-"
    }
   },
   "source": [
    "Often notated as: \n",
    "\n",
    "$ ^{n} C_{k} = C(n,k) = \\frac{n!}{k!(n-k)!} = \\binom{n}{k}$\n",
    "\n",
    "Where\n",
    "- $n$: Number of items available\n",
    "- $k$: Number of items chosen\n",
    "\n"
   ]
  },
  {
   "cell_type": "markdown",
   "metadata": {
    "slideshow": {
     "slide_type": "slide"
    }
   },
   "source": [
    "## Permutations and Combinations in Python"
   ]
  },
  {
   "cell_type": "markdown",
   "metadata": {
    "slideshow": {
     "slide_type": "fragment"
    }
   },
   "source": [
    "`itertools` module to the rescue!\n",
    "\n",
    "- *Functions for efficient iteration*\n",
    "- Provides built-in functions for permutations and combinations (and much more...)"
   ]
  },
  {
   "cell_type": "markdown",
   "metadata": {
    "slideshow": {
     "slide_type": "slide"
    }
   },
   "source": [
    "## Permutations in Python"
   ]
  },
  {
   "cell_type": "code",
   "execution_count": 5,
   "metadata": {
    "nbpresent": {
     "id": "d0937866-4944-433e-b3a9-3b31b4d6bbb4"
    },
    "slideshow": {
     "slide_type": "-"
    }
   },
   "outputs": [
    {
     "name": "stdout",
     "output_type": "stream",
     "text": [
      "<itertools.permutations object at 0x10ac52780>\n"
     ]
    }
   ],
   "source": [
    "from itertools import permutations\n",
    "\n",
    "subjects = ('Maths', 'Programming', 'Biology')\n",
    "arrangements = permutations(subjects, 3)\n",
    "print(arrangements)"
   ]
  },
  {
   "cell_type": "markdown",
   "metadata": {
    "slideshow": {
     "slide_type": "fragment"
    }
   },
   "source": [
    "<img src=\"static/huh.jpg\" style=\"display:block;margin-top:-2%;margin-left:auto;margin-right:auto;width:25%;height:25%;\">"
   ]
  },
  {
   "cell_type": "markdown",
   "metadata": {
    "slideshow": {
     "slide_type": "slide"
    }
   },
   "source": [
    "## Permutations in Python (a second attempt...)"
   ]
  },
  {
   "cell_type": "code",
   "execution_count": 6,
   "metadata": {
    "slideshow": {
     "slide_type": "-"
    }
   },
   "outputs": [
    {
     "name": "stdout",
     "output_type": "stream",
     "text": [
      "[('Maths', 'Programming', 'Biology'), ('Maths', 'Biology', 'Programming'), ('Programming', 'Maths', 'Biology'), ('Programming', 'Biology', 'Maths'), ('Biology', 'Maths', 'Programming'), ('Biology', 'Programming', 'Maths')]\n"
     ]
    }
   ],
   "source": [
    "from itertools import permutations\n",
    "\n",
    "items = ('Maths', 'Programming', 'Biology')\n",
    "arrangements = permutations(items, 3)\n",
    "print(list(arrangements))"
   ]
  },
  {
   "cell_type": "markdown",
   "metadata": {
    "slideshow": {
     "slide_type": "slide"
    }
   },
   "source": [
    "## Combinations in Python"
   ]
  },
  {
   "cell_type": "code",
   "execution_count": 7,
   "metadata": {},
   "outputs": [
    {
     "name": "stdout",
     "output_type": "stream",
     "text": [
      "[('apple', 'banana'), ('apple', 'orange'), ('apple', 'pear'), ('banana', 'orange'), ('banana', 'pear'), ('orange', 'pear')]\n"
     ]
    }
   ],
   "source": [
    "from itertools import combinations\n",
    "\n",
    "fruits = ('apple', 'banana', 'orange', 'pear')\n",
    "arrangements = combinations(fruits, 2)\n",
    "print(list(arrangements))"
   ]
  },
  {
   "cell_type": "markdown",
   "metadata": {
    "slideshow": {
     "slide_type": "slide"
    }
   },
   "source": [
    "## A Practical Example\n",
    "\n",
    "How many 8 character passwords are possible using only the lower-case alphabet, without repeating a character?"
   ]
  },
  {
   "cell_type": "code",
   "execution_count": 8,
   "metadata": {
    "slideshow": {
     "slide_type": "fragment"
    }
   },
   "outputs": [
    {
     "ename": "TypeError",
     "evalue": "object of type 'itertools.permutations' has no len()",
     "output_type": "error",
     "traceback": [
      "\u001b[0;31m---------------------------------------------------------------------------\u001b[0m",
      "\u001b[0;31mTypeError\u001b[0m                                 Traceback (most recent call last)",
      "\u001b[0;32m<ipython-input-8-3d0b03b3fb78>\u001b[0m in \u001b[0;36m<module>\u001b[0;34m()\u001b[0m\n\u001b[1;32m      3\u001b[0m \u001b[0;34m\u001b[0m\u001b[0m\n\u001b[1;32m      4\u001b[0m \u001b[0mpasswords\u001b[0m \u001b[0;34m=\u001b[0m \u001b[0mpermutations\u001b[0m\u001b[0;34m(\u001b[0m\u001b[0mlowercase\u001b[0m\u001b[0;34m,\u001b[0m \u001b[0;36m8\u001b[0m\u001b[0;34m)\u001b[0m\u001b[0;34m\u001b[0m\u001b[0m\n\u001b[0;32m----> 5\u001b[0;31m \u001b[0mprint\u001b[0m\u001b[0;34m(\u001b[0m\u001b[0mlen\u001b[0m\u001b[0;34m(\u001b[0m\u001b[0mpasswords\u001b[0m\u001b[0;34m)\u001b[0m\u001b[0;34m)\u001b[0m\u001b[0;34m\u001b[0m\u001b[0m\n\u001b[0m",
      "\u001b[0;31mTypeError\u001b[0m: object of type 'itertools.permutations' has no len()"
     ]
    }
   ],
   "source": [
    "from string import ascii_lowercase as lowercase\n",
    "from itertools import permutations\n",
    "\n",
    "passwords = permutations(lowercase, 8)\n",
    "print(len(passwords))"
   ]
  },
  {
   "cell_type": "code",
   "execution_count": 9,
   "metadata": {
    "slideshow": {
     "slide_type": "subslide"
    }
   },
   "outputs": [],
   "source": [
    "from string import ascii_lowercase as lowercase\n",
    "from itertools import permutations\n",
    "\n",
    "passwords = permutations(lowercase, 8)\n",
    "#print(len(list(passwords))) -- nothing but sadness here"
   ]
  },
  {
   "cell_type": "markdown",
   "metadata": {
    "slideshow": {
     "slide_type": "slide"
    }
   },
   "source": [
    "## So why didn't it work?"
   ]
  },
  {
   "cell_type": "markdown",
   "metadata": {
    "slideshow": {
     "slide_type": "fragment"
    }
   },
   "source": [
    "Remember...\n",
    "$$\\frac{n!}{(n-k)!}$$"
   ]
  },
  {
   "cell_type": "markdown",
   "metadata": {
    "slideshow": {
     "slide_type": "subslide"
    }
   },
   "source": [
    "$$\\frac{26!}{(26-8)!}$$ "
   ]
  },
  {
   "cell_type": "markdown",
   "metadata": {
    "slideshow": {
     "slide_type": "fragment"
    }
   },
   "source": [
    "$$\\approx \\frac{4.0 \\times 10^{26}}{6.4 \\times 10^{15}} $$"
   ]
  },
  {
   "cell_type": "markdown",
   "metadata": {
    "slideshow": {
     "slide_type": "fragment"
    }
   },
   "source": [
    "$$\\approx 6.3 \\times 10^{10} $$"
   ]
  },
  {
   "cell_type": "markdown",
   "metadata": {
    "slideshow": {
     "slide_type": "slide"
    }
   },
   "source": [
    "## What can we learn from this?\n",
    "- Factorials get **really big**, **really quickly**\n",
    "- Runtime complexity and memory usage matter\n",
    "- Generators are really cool! They allow us to get around this, sometimes...\n",
    "- Other times, it's better to go back to basics"
   ]
  },
  {
   "cell_type": "markdown",
   "metadata": {
    "slideshow": {
     "slide_type": "slide"
    }
   },
   "source": [
    "### Let's take another look at the question...\n",
    "How **many** 8 character passwords are possible using only the lower-case alphabet, without repeating a character?\n",
    "$$\\frac{n!}{(n-k)!}$$"
   ]
  },
  {
   "cell_type": "code",
   "execution_count": 11,
   "metadata": {
    "slideshow": {
     "slide_type": "fragment"
    }
   },
   "outputs": [
    {
     "name": "stdout",
     "output_type": "stream",
     "text": [
      "62990928000.000015\n"
     ]
    }
   ],
   "source": [
    "from scipy.special import factorial  #note: you could also use math.factorial for this\n",
    "n = 26\n",
    "k = 8\n",
    "print(factorial(n)/factorial(n - k))"
   ]
  },
  {
   "cell_type": "markdown",
   "metadata": {
    "nbpresent": {
     "id": "ffc955bb-48f0-498c-8ccd-7c96eb946696"
    },
    "slideshow": {
     "slide_type": "slide"
    }
   },
   "source": [
    "# Linear Algebra\n",
    "<img src=\"static/matrix.jpg\" style=\"display:block;margin-left:auto;margin-right:auto;width:50%;height:50%;\">"
   ]
  },
  {
   "cell_type": "markdown",
   "metadata": {
    "slideshow": {
     "slide_type": "slide"
    }
   },
   "source": [
    "## What is a Matrix?"
   ]
  },
  {
   "cell_type": "markdown",
   "metadata": {
    "slideshow": {
     "slide_type": "fragment"
    }
   },
   "source": [
    "- A two dimmensional array of elements\n",
    "- A different type of mathematical object, with standard operations defined\n",
    "\n",
    "\n",
    "$$ \n",
    "\\begin{bmatrix}\n",
    "    1 & 0 \\\\\n",
    "    0 & 1\n",
    "\\end{bmatrix}\n",
    " \\quad\n",
    "\\begin{bmatrix}\n",
    "    1 & 3 & 7 \\\\\n",
    "    2 & 5 & -2\n",
    "\\end{bmatrix}\n",
    " \\quad\n",
    "\\begin{bmatrix}\n",
    "    cos(\\theta) & -sin(\\theta) \\\\\n",
    "    sin(\\theta) & cos(\\theta)\n",
    "\\end{bmatrix}$$"
   ]
  },
  {
   "cell_type": "markdown",
   "metadata": {
    "slideshow": {
     "slide_type": "slide"
    }
   },
   "source": [
    "## NumPy!"
   ]
  },
  {
   "cell_type": "markdown",
   "metadata": {
    "slideshow": {
     "slide_type": "-"
    }
   },
   "source": [
    "Numpy is the core library for scientific computing in Python.\n",
    "\n",
    "Among many other tools, it provides a high-performance multidimensional array object"
   ]
  },
  {
   "cell_type": "markdown",
   "metadata": {
    "slideshow": {
     "slide_type": "slide"
    }
   },
   "source": [
    "## Let's start playing around with NumPy"
   ]
  },
  {
   "cell_type": "markdown",
   "metadata": {
    "slideshow": {
     "slide_type": "fragment"
    }
   },
   "source": [
    "### Constructing Matrices"
   ]
  },
  {
   "cell_type": "code",
   "execution_count": 12,
   "metadata": {
    "scrolled": true,
    "slideshow": {
     "slide_type": "-"
    }
   },
   "outputs": [
    {
     "name": "stdout",
     "output_type": "stream",
     "text": [
      "a:\n",
      "[[2 3]\n",
      " [2 1]]\n",
      "b:\n",
      "[[3 1]\n",
      " [1 1]]\n"
     ]
    }
   ],
   "source": [
    "from numpy import matrix\n",
    "a = matrix([[2, 3], [2, 1]])\n",
    "b = matrix([[3, 1], [1, 1]])\n",
    "print('a:\\n{}'.format(a))\n",
    "print('b:\\n{}'.format(b))"
   ]
  },
  {
   "cell_type": "markdown",
   "metadata": {
    "slideshow": {
     "slide_type": "slide"
    }
   },
   "source": [
    "### Addition and Subtraction"
   ]
  },
  {
   "cell_type": "code",
   "execution_count": 13,
   "metadata": {
    "slideshow": {
     "slide_type": "-"
    }
   },
   "outputs": [
    {
     "name": "stdout",
     "output_type": "stream",
     "text": [
      "a + b:\n",
      "[[5 4]\n",
      " [3 2]]\n",
      "a - b:\n",
      "[[-1  2]\n",
      " [ 1  0]]\n"
     ]
    }
   ],
   "source": [
    "from numpy import matrix\n",
    "a = matrix([[2, 3], [2, 1]])\n",
    "b = matrix([[3, 1], [1, 1]])\n",
    "print('a + b:\\n{}'.format(a + b))\n",
    "print('a - b:\\n{}'.format(a - b))"
   ]
  },
  {
   "cell_type": "markdown",
   "metadata": {
    "slideshow": {
     "slide_type": "slide"
    }
   },
   "source": [
    "### Matrix Multiplication"
   ]
  },
  {
   "cell_type": "code",
   "execution_count": 14,
   "metadata": {
    "slideshow": {
     "slide_type": "-"
    }
   },
   "outputs": [
    {
     "name": "stdout",
     "output_type": "stream",
     "text": [
      "a * b:\n",
      "[[9 5]\n",
      " [7 3]]\n",
      "b * a:\n",
      "[[ 8 10]\n",
      " [ 4  4]]\n"
     ]
    }
   ],
   "source": [
    "from numpy import matrix\n",
    "a = matrix([[2, 3], [2, 1]])\n",
    "b = matrix([[3, 1], [1, 1]])\n",
    "print('a * b:\\n{}'.format(a * b))\n",
    "print('b * a:\\n{}'.format(b * a))"
   ]
  },
  {
   "cell_type": "markdown",
   "metadata": {
    "slideshow": {
     "slide_type": "slide"
    }
   },
   "source": [
    "## A Mathematical Defintion"
   ]
  },
  {
   "cell_type": "markdown",
   "metadata": {
    "slideshow": {
     "slide_type": "-"
    }
   },
   "source": [
    "$$ C = A \\times B$$\n",
    "\n",
    "$$ C_{ij} = \\sum_{k=1}^{n} A_{ik} B_{kj} $$\n",
    "\n",
    "$$ C_{ij} = A_{i1} B_{1j} + A_{i2} B_{2j} + \\dots + A_{in} B_{nj} $$"
   ]
  },
  {
   "cell_type": "markdown",
   "metadata": {
    "slideshow": {
     "slide_type": "slide"
    }
   },
   "source": [
    "## How about an algorithm..."
   ]
  },
  {
   "cell_type": "markdown",
   "metadata": {
    "slideshow": {
     "slide_type": "fragment"
    }
   },
   "source": [
    "``` \n",
    "For each row i in C:\n",
    "    For each column j in C:\n",
    "        For k in 1 ... n:\n",
    "            C[i][j] += A[i][k] * B[k][j]\n",
    "```    \n",
    "<img src=\"static/matrix_mult.png\" style=\"display:block;margin-left:auto;margin-right:auto;margin-top:-1.8%;width:33%;height:33%;\">"
   ]
  },
  {
   "cell_type": "markdown",
   "metadata": {
    "slideshow": {
     "slide_type": "slide"
    }
   },
   "source": [
    "## ...and in Python"
   ]
  },
  {
   "cell_type": "code",
   "execution_count": 15,
   "metadata": {
    "slideshow": {
     "slide_type": "subslide"
    }
   },
   "outputs": [
    {
     "name": "stdout",
     "output_type": "stream",
     "text": [
      "a * b:\n",
      "[[9, 5], [7, 3]]\n",
      "b * a:\n",
      "[[8, 10], [4, 4]]\n"
     ]
    }
   ],
   "source": [
    "def matrix_mult(A, B):\n",
    "    rows, cols, n = len(A), len(B[0]), len(B)  \n",
    "    C = [[0 for row in range(rows)] for col in range(cols)]\n",
    "    for i in range(rows):\n",
    "        for j in range(cols):\n",
    "            for k in range(n):\n",
    "                C[i][j] += A[i][k] * B[k][j]\n",
    "    return C\n",
    "\n",
    "a = [[2, 3], [2, 1]]\n",
    "b = [[3, 1], [1, 1]]\n",
    "print('a * b:\\n{}'.format(matrix_mult(a, b)))\n",
    "print('b * a:\\n{}'.format(matrix_mult(b, a)))"
   ]
  },
  {
   "cell_type": "markdown",
   "metadata": {
    "slideshow": {
     "slide_type": "slide"
    }
   },
   "source": [
    "## Why not just use NumPy?"
   ]
  },
  {
   "cell_type": "markdown",
   "metadata": {
    "slideshow": {
     "slide_type": "fragment"
    }
   },
   "source": [
    "- Better understand how matrix multiplication \"actually works\"\n",
    "- Practice breaking down a process and implementing an iterative algorithm\n",
    "- Get a sense of why matrix multiplication is computationally expensive\n",
    "    - Classic example of an O(n^3) algorithm"
   ]
  },
  {
   "cell_type": "markdown",
   "metadata": {
    "slideshow": {
     "slide_type": "fragment"
    }
   },
   "source": [
    "A similar case can be made for \"Matrix Determinants\""
   ]
  },
  {
   "cell_type": "markdown",
   "metadata": {
    "slideshow": {
     "slide_type": "slide"
    }
   },
   "source": [
    "## Let's take it further"
   ]
  },
  {
   "cell_type": "code",
   "execution_count": 16,
   "metadata": {
    "slideshow": {
     "slide_type": "fragment"
    }
   },
   "outputs": [],
   "source": [
    "class Matrix:\n",
    "    def __init__(self, m):\n",
    "        self.height, self.width = len(m), len(m[0])\n",
    "        self.matrix = m\n",
    "  \n",
    "    def __add__(self, other):\n",
    "        result = [[0 for i in range(self.width)] for j in range(self.height)]\n",
    "        for i in range(self.height):\n",
    "            for j in range(self.width):\n",
    "                result[i][j] = self.matrix[i][j] + other.matrix[i][j]\n",
    "        return result\n",
    "    \n",
    "    def __mul__(self, other):\n",
    "        result = [[0 for i in range(other.width)] for j in range(self.height)]\n",
    "        for i in range(self.height):\n",
    "            for j in range(other.width):\n",
    "                for k in range(self.width):\n",
    "                    result[i][j] += self[i][k] * other[k][j]\n",
    "        return result"
   ]
  },
  {
   "cell_type": "markdown",
   "metadata": {
    "nbpresent": {
     "id": "850f4054-8312-474a-adac-583f2a619806"
    },
    "slideshow": {
     "slide_type": "slide"
    }
   },
   "source": [
    "# Visualization\n",
    "<img src=\"static/Visualisation.png\" style=\"display:block;margin-left:auto;margin-right:auto;width:40%;height:40%;\">"
   ]
  },
  {
   "cell_type": "markdown",
   "metadata": {
    "slideshow": {
     "slide_type": "slide"
    }
   },
   "source": [
    "## Jupyter/IPython\n",
    "Web-based interactive notebook for presenting live code alongside rich text\n",
    "<img src=\"static/jupyter2.png\" style=\"display:block;margin-left:auto;margin-right:auto;width:65%;height:65%;\">"
   ]
  },
  {
   "cell_type": "markdown",
   "metadata": {
    "slideshow": {
     "slide_type": "slide"
    }
   },
   "source": [
    "## Function Plot"
   ]
  },
  {
   "cell_type": "code",
   "execution_count": 18,
   "metadata": {
    "slideshow": {
     "slide_type": "fragment"
    }
   },
   "outputs": [
    {
     "data": {
      "image/png": "[encoded data removed]",
      "text/plain": [
       "<Figure size 432x288 with 1 Axes>"
      ]
     },
     "metadata": {},
     "output_type": "display_data"
    }
   ],
   "source": [
    "import matplotlib.pyplot as plt, numpy as np\n",
    "\n",
    "x = np.arange(0.0, 2*np.pi, 0.01)\n",
    "y = np.sin(x)\n",
    "plt.plot(x, y)\n",
    "plt.xlabel('x')\n",
    "plt.ylabel('y')\n",
    "plt.show()"
   ]
  },
  {
   "cell_type": "markdown",
   "metadata": {
    "slideshow": {
     "slide_type": "slide"
    }
   },
   "source": [
    "## Charts/Graphs"
   ]
  },
  {
   "cell_type": "code",
   "execution_count": 19,
   "metadata": {
    "slideshow": {
     "slide_type": "fragment"
    }
   },
   "outputs": [
    {
     "data": {
      "image/png": "[encoded data removed]",
      "text/plain": [
       "<Figure size 432x288 with 1 Axes>"
      ]
     },
     "metadata": {},
     "output_type": "display_data"
    }
   ],
   "source": [
    "import matplotlib.pyplot as plt, numpy as np\n",
    "\n",
    "groups, scores = np.arange(5), (5, 15, 12, 19, 9)\n",
    "plt.bar(groups, scores)\n",
    "plt.xlabel('Group')\n",
    "plt.ylabel('Scores')\n",
    "plt.title('Scores by group')\n",
    "plt.show()"
   ]
  },
  {
   "cell_type": "markdown",
   "metadata": {
    "slideshow": {
     "slide_type": "slide"
    }
   },
   "source": [
    "## Linear Regression"
   ]
  },
  {
   "cell_type": "code",
   "execution_count": 21,
   "metadata": {
    "scrolled": true,
    "slideshow": {
     "slide_type": "fragment"
    }
   },
   "outputs": [],
   "source": [
    "import numpy as np, matplotlib.pyplot as plt \n",
    "from scipy import stats\n",
    "\n",
    "def line_of_best_fit(x, y, xmin, xmax):\n",
    "    gradient, intercept, r_value, p_value, std_err = stats.linregress(x,y)\n",
    "    x1 = np.linspace(xmin, xmax)\n",
    "    y1 = gradient * x1 + intercept\n",
    "    return x1, y1\n",
    "\n",
    "def plot_linear_regression(x, y):\n",
    "    x1, y1, = line_of_best_fit(x, y, x[0], x[-1])\n",
    "    plt.plot(x, y, 'ob')\n",
    "    plt.plot(x1, y1, '-r')\n",
    "    plt.show()"
   ]
  },
  {
   "cell_type": "code",
   "execution_count": 28,
   "metadata": {
    "slideshow": {
     "slide_type": "subslide"
    }
   },
   "outputs": [
    {
     "data": {
      "image/png": "[encoded data removed]",
      "text/plain": [
       "<Figure size 432x288 with 1 Axes>"
      ]
     },
     "metadata": {},
     "output_type": "display_data"
    }
   ],
   "source": [
    "x = np.array([1, 1.5, 2, 2.5, 3, 3.5, 4, 4.5, 5])\n",
    "y = np.array([9.1, 10.2, 12.5, 13, 14, 15.7, 17, 18.2, 20])\n",
    "\n",
    "plot_linear_regression(x, y)"
   ]
  },
  {
   "cell_type": "markdown",
   "metadata": {
    "slideshow": {
     "slide_type": "slide"
    }
   },
   "source": [
    "## 3D Surfaces"
   ]
  },
  {
   "cell_type": "code",
   "execution_count": 29,
   "metadata": {
    "slideshow": {
     "slide_type": "fragment"
    }
   },
   "outputs": [],
   "source": [
    "import numpy as np, matplotlib.pyplot as plt, mpl_toolkits.mplot3d\n",
    "\n",
    "def apply(f, x, y):\n",
    "    X, Y = np.meshgrid(x, y)\n",
    "    Z = np.array([[f(a,b) for a in x] for b in y])\n",
    "    return X, Y, Z\n",
    "\n",
    "def plot_3d(f, xmin, xmax, ymin, ymax, step):\n",
    "    x = np.arange(xmin, xmax, step)\n",
    "    y = np.arange(ymin, ymax, step)\n",
    "    subplot = plt.figure().add_subplot(111, projection='3d')\n",
    "    subplot.plot_surface(*apply(f, x, y))\n",
    "    plt.show()"
   ]
  },
  {
   "cell_type": "code",
   "execution_count": 31,
   "metadata": {
    "slideshow": {
     "slide_type": "subslide"
    }
   },
   "outputs": [
    {
     "data": {
      "image/png": "[encoded data removed]",
      "text/plain": [
       "<Figure size 432x288 with 1 Axes>"
      ]
     },
     "metadata": {},
     "output_type": "display_data"
    }
   ],
   "source": [
    "def saddle(x, y):\n",
    "    return x**2 - y**2\n",
    "\n",
    "def sinc(x, y): \n",
    "    r = np.sqrt(x**2 + y**2)\n",
    "    return np.sin(r)/r if r != 0 else 1\n",
    "\n",
    "plot_3d(sinc, -8, 8, -8, 8, 0.5)"
   ]
  },
  {
   "cell_type": "markdown",
   "metadata": {
    "slideshow": {
     "slide_type": "slide"
    }
   },
   "source": [
    "# Summing Up..."
   ]
  },
  {
   "cell_type": "markdown",
   "metadata": {
    "slideshow": {
     "slide_type": "slide"
    }
   },
   "source": [
    "## Learning programming alongside mathematics helps bridge related concepts"
   ]
  },
  {
   "cell_type": "markdown",
   "metadata": {
    "slideshow": {
     "slide_type": "fragment"
    }
   },
   "source": [
    "## Both fields contain opportunities for further extension and inquiry"
   ]
  },
  {
   "cell_type": "markdown",
   "metadata": {
    "slideshow": {
     "slide_type": "slide"
    }
   },
   "source": [
    "## Python is a fantastic tool for introducing some of these new concepts to students"
   ]
  },
  {
   "cell_type": "markdown",
   "metadata": {},
   "source": [
    "- Built-in libraries provide plenty of useful tools\n",
    "- Interactivity encourages experimentation\n",
    "- Simple, clean, and readable syntax lowers barriers to programming\n",
    "    - Allows us to focus more on the important concepts\n"
   ]
  },
  {
   "cell_type": "markdown",
   "metadata": {
    "slideshow": {
     "slide_type": "slide"
    }
   },
   "source": [
    "# Thank you!"
   ]
  },
  {
   "cell_type": "markdown",
   "metadata": {
    "slideshow": {
     "slide_type": "-"
    }
   },
   "source": [
    "## Slides available at:\n",
    "\n",
    "http://tiny.cc/pi-thon"
   ]
  }
 ],
 "metadata": {
  "celltoolbar": "Slideshow",
  "kernelspec": {
   "display_name": "Python 3",
   "language": "python",
   "name": "python3"
  },
  "language_info": {
   "codemirror_mode": {
    "name": "ipython",
    "version": 3
   },
   "file_extension": ".py",
   "mimetype": "text/x-python",
   "name": "python",
   "nbconvert_exporter": "python",
   "pygments_lexer": "ipython3",
   "version": "3.5.5"
  },
  "nbpresent": {
   "slides": {
    "0742bacc-75c9-4fb4-8b80-162df61de736": {
     "id": "0742bacc-75c9-4fb4-8b80-162df61de736",
     "prev": "ef60bcdf-c72a-457b-a7ba-efa0dc39cd31",
     "regions": {
      "62f627e8-cee9-400c-8baa-1f4f9692aa87": {
       "attrs": {
        "height": 0.4,
        "width": 0.8,
        "x": 0.1,
        "y": 0.5
       },
       "content": {
        "cell": "848e7b98-7c61-4051-8f81-fcbf46c3d820",
        "part": "whole"
       },
       "id": "62f627e8-cee9-400c-8baa-1f4f9692aa87"
      },
      "977b07aa-6633-44df-bf4b-9e18419a59d6": {
       "attrs": {
        "height": 0.8,
        "width": 0.8,
        "x": 0.1,
        "y": 0.1
       },
       "content": {
        "cell": "04ef4dd4-97f7-4746-afb9-c24c68cb0bbe",
        "part": "whole"
       },
       "id": "977b07aa-6633-44df-bf4b-9e18419a59d6"
      },
      "cc086c3b-c8a5-4979-be6e-2dd543613234": {
       "attrs": {
        "height": 0.4,
        "width": 0.8,
        "x": 0.1,
        "y": 0.5
       },
       "content": {
        "cell": "aebd3dfe-9a76-47eb-8f45-e5771df5423e",
        "part": "whole"
       },
       "id": "cc086c3b-c8a5-4979-be6e-2dd543613234"
      }
     }
    },
    "0862f757-be8b-41ae-aae6-7e8ad6efe6eb": {
     "id": "0862f757-be8b-41ae-aae6-7e8ad6efe6eb",
     "prev": "65f4cc09-b87a-46eb-9625-82e36532e4f1",
     "regions": {
      "591ebdd3-727f-4c7c-9b6d-030eee5dd6d0": {
       "attrs": {
        "height": 0.8,
        "width": 0.8,
        "x": 0.1,
        "y": 0.1
       },
       "content": {
        "cell": "f18fb371-8993-42f6-92f5-e0fdf3afac51",
        "part": "whole"
       },
       "id": "591ebdd3-727f-4c7c-9b6d-030eee5dd6d0"
      },
      "686132cf-2175-4370-883c-812f42f3225d": {
       "attrs": {
        "height": 0.4,
        "width": 0.8,
        "x": 0.1,
        "y": 0.5
       },
       "content": {
        "cell": "e0a1d66d-ec18-4bf8-bbce-c40a196e29a6",
        "part": "whole"
       },
       "id": "686132cf-2175-4370-883c-812f42f3225d"
      },
      "987f8b1b-a6d7-4234-81fe-8ced4c2ba433": {
       "attrs": {
        "height": 0.4,
        "width": 0.8,
        "x": 0.1,
        "y": 0.5
       },
       "content": {
        "cell": "850f4054-8312-474a-adac-583f2a619806",
        "part": "whole"
       },
       "id": "987f8b1b-a6d7-4234-81fe-8ced4c2ba433"
      }
     }
    },
    "0d50d153-ee7c-43d4-be0f-d9a568279cc7": {
     "id": "0d50d153-ee7c-43d4-be0f-d9a568279cc7",
     "prev": "d26b3dac-adee-4a65-9f30-ca5cefadb2d0",
     "regions": {
      "fff1c04c-df6c-422f-96a5-414dccb7bfeb": {
       "attrs": {
        "height": 0.8,
        "width": 0.8,
        "x": 0.1,
        "y": 0.1
       },
       "content": {
        "cell": "5a22be03-d9cf-4f17-8e25-3f2460d26f80",
        "part": "whole"
       },
       "id": "fff1c04c-df6c-422f-96a5-414dccb7bfeb"
      }
     }
    },
    "167e4f0f-8c47-454d-82e7-da9a71ddb3eb": {
     "id": "167e4f0f-8c47-454d-82e7-da9a71ddb3eb",
     "prev": "8937a970-2638-4f67-bc99-1ecd76b46285",
     "regions": {
      "80ffddff-fa27-433b-b553-d1d055a82f3e": {
       "attrs": {
        "height": 0.4,
        "width": 0.8,
        "x": 0.1,
        "y": 0.5
       },
       "content": {
        "cell": "9f4cba9b-a11b-453b-aaae-4c7559ba0717",
        "part": "whole"
       },
       "id": "80ffddff-fa27-433b-b553-d1d055a82f3e"
      },
      "9ad636e5-d69e-49e7-92a5-58178a63aac8": {
       "attrs": {
        "height": 0.8,
        "width": 0.8,
        "x": 0.1,
        "y": 0.1
       },
       "content": {
        "cell": "4ba824c0-b5bf-422a-8250-ce7cd90b4dd3",
        "part": "whole"
       },
       "id": "9ad636e5-d69e-49e7-92a5-58178a63aac8"
      }
     }
    },
    "33a19313-3ce5-4e03-9a7f-173174cd359c": {
     "id": "33a19313-3ce5-4e03-9a7f-173174cd359c",
     "prev": "ec38bb4d-2fde-41bf-b772-d6bbefccb9a9",
     "regions": {
      "a7eeae82-36d4-407e-83d6-61d3de3e1c67": {
       "attrs": {
        "height": 0.8,
        "width": 0.8,
        "x": 0.1,
        "y": 0.1
       },
       "content": {
        "cell": "6fdbed02-dd96-4df3-8296-b888557b7495",
        "part": "whole"
       },
       "id": "a7eeae82-36d4-407e-83d6-61d3de3e1c67"
      },
      "e321eb42-1f5e-4b26-b0b8-1e47ce2ec76e": {
       "attrs": {
        "height": 0.4,
        "width": 0.8,
        "x": 0.1,
        "y": 0.5
       },
       "content": {
        "cell": "48d330c6-7964-442f-a7d1-4cbbc94f1b25",
        "part": "whole"
       },
       "id": "e321eb42-1f5e-4b26-b0b8-1e47ce2ec76e"
      }
     }
    },
    "3e6902b1-afc3-406e-a386-81f9f919d0c5": {
     "id": "3e6902b1-afc3-406e-a386-81f9f919d0c5",
     "prev": "75d13527-9eda-463e-8e80-9df1da6b8863",
     "regions": {
      "dcd3f90c-7de4-445b-aa9e-161d4e8bd55a": {
       "attrs": {
        "height": 0.4,
        "width": 0.8,
        "x": 0.1,
        "y": 0.5
       },
       "content": {
        "cell": "95e1a9b9-a2b8-49ac-8f1c-ecfc9fa7e202",
        "part": "whole"
       },
       "id": "dcd3f90c-7de4-445b-aa9e-161d4e8bd55a"
      },
      "f1702073-dc12-4754-8a0d-c3f3a826a81c": {
       "attrs": {
        "height": 0.8,
        "width": 0.8,
        "x": 0.1,
        "y": 0.1
       },
       "content": {
        "cell": "58022fb5-b0c5-4dc1-8fa3-4f8d49411f8f",
        "part": "whole"
       },
       "id": "f1702073-dc12-4754-8a0d-c3f3a826a81c"
      }
     }
    },
    "65f4cc09-b87a-46eb-9625-82e36532e4f1": {
     "id": "65f4cc09-b87a-46eb-9625-82e36532e4f1",
     "prev": "91f85e03-fe88-4ff8-a76a-3131fb8667e9",
     "regions": {
      "a8f9b867-d6e4-4e20-a0fe-93ae6590b364": {
       "attrs": {
        "height": 0.8,
        "width": 0.8,
        "x": 0.1,
        "y": 0.1
       },
       "content": {
        "cell": "ffc955bb-48f0-498c-8ccd-7c96eb946696",
        "part": "whole"
       },
       "id": "a8f9b867-d6e4-4e20-a0fe-93ae6590b364"
      }
     }
    },
    "75d13527-9eda-463e-8e80-9df1da6b8863": {
     "id": "75d13527-9eda-463e-8e80-9df1da6b8863",
     "prev": "167e4f0f-8c47-454d-82e7-da9a71ddb3eb",
     "regions": {
      "3f6d3241-cbfb-4085-953b-041f01561321": {
       "attrs": {
        "height": 0.4,
        "width": 0.8,
        "x": 0.1,
        "y": 0.5
       },
       "content": {
        "cell": "b7ae04cd-d978-45be-88b7-4fc0344d425f",
        "part": "whole"
       },
       "id": "3f6d3241-cbfb-4085-953b-041f01561321"
      },
      "55eac7b4-f7fe-4335-a459-72213161754c": {
       "attrs": {
        "height": 0.4,
        "width": 0.8,
        "x": 0.1,
        "y": 0.5
       },
       "content": {
        "cell": "ac5315ae-1e83-4bb0-b5ee-a37873fe77b7",
        "part": "whole"
       },
       "id": "55eac7b4-f7fe-4335-a459-72213161754c"
      },
      "9474a617-432e-4665-8737-d45586da7a51": {
       "attrs": {
        "height": 0.8,
        "width": 0.8,
        "x": 0.1,
        "y": 0.1
       },
       "content": {
        "cell": "cbe427b1-0c5e-4c4c-b4c2-d9f77ed1a687",
        "part": "whole"
       },
       "id": "9474a617-432e-4665-8737-d45586da7a51"
      },
      "b1d154cf-cfb5-4fd2-94f2-821babe49e8a": {
       "attrs": {
        "height": 0.4,
        "width": 0.8,
        "x": 0.1,
        "y": 0.5
       },
       "content": {
        "cell": "5ad2113f-abc6-416e-bf5c-57ef38dace03",
        "part": "whole"
       },
       "id": "b1d154cf-cfb5-4fd2-94f2-821babe49e8a"
      }
     }
    },
    "8937a970-2638-4f67-bc99-1ecd76b46285": {
     "id": "8937a970-2638-4f67-bc99-1ecd76b46285",
     "prev": "e2076912-6ee6-45d1-a092-ccc9277b60c0",
     "regions": {
      "d68a9fc2-eb60-443b-ac24-31f049dcccb7": {
       "attrs": {
        "height": 0.8,
        "width": 0.8,
        "x": 0.1,
        "y": 0.1
       },
       "content": {
        "cell": "b02232e5-6f8c-4d88-841e-8d3d563686ab",
        "part": "whole"
       },
       "id": "d68a9fc2-eb60-443b-ac24-31f049dcccb7"
      }
     }
    },
    "91f85e03-fe88-4ff8-a76a-3131fb8667e9": {
     "id": "91f85e03-fe88-4ff8-a76a-3131fb8667e9",
     "prev": "0742bacc-75c9-4fb4-8b80-162df61de736",
     "regions": {
      "3b916fe8-c565-4e0c-a95a-e6af56d85c37": {
       "attrs": {
        "height": 0.8,
        "width": 0.8,
        "x": 0.1,
        "y": 0.1
       },
       "content": {
        "cell": "72f7c7d7-612b-4ff5-936e-61fef7869457",
        "part": "whole"
       },
       "id": "3b916fe8-c565-4e0c-a95a-e6af56d85c37"
      },
      "8d639321-99bb-4674-900a-90df9aba2ee4": {
       "attrs": {
        "height": 0.4,
        "width": 0.8,
        "x": 0.1,
        "y": 0.5
       },
       "content": {
        "cell": "d0937866-4944-433e-b3a9-3b31b4d6bbb4",
        "part": "whole"
       },
       "id": "8d639321-99bb-4674-900a-90df9aba2ee4"
      }
     }
    },
    "d26b3dac-adee-4a65-9f30-ca5cefadb2d0": {
     "id": "d26b3dac-adee-4a65-9f30-ca5cefadb2d0",
     "prev": null,
     "regions": {
      "37d6fc38-112e-4a7c-849b-adc2081f5d8e": {
       "attrs": {
        "height": 0.4,
        "width": 0.8,
        "x": 0.1,
        "y": 0.5
       },
       "content": {
        "cell": "044f663a-9afb-438a-bc2b-61a77188a974",
        "part": "whole"
       },
       "id": "37d6fc38-112e-4a7c-849b-adc2081f5d8e"
      },
      "8e30283a-3656-4b73-86f3-55305af1cfb0": {
       "attrs": {
        "height": 0.8,
        "width": 0.8,
        "x": 0.1,
        "y": 0.1
       },
       "content": {
        "cell": "52a22c92-39f8-4154-b882-bc6b54d95cc6",
        "part": "whole"
       },
       "id": "8e30283a-3656-4b73-86f3-55305af1cfb0"
      }
     }
    },
    "e2076912-6ee6-45d1-a092-ccc9277b60c0": {
     "id": "e2076912-6ee6-45d1-a092-ccc9277b60c0",
     "prev": "0d50d153-ee7c-43d4-be0f-d9a568279cc7",
     "regions": {
      "de31917d-9fee-42f9-9467-a279c223e50c": {
       "attrs": {
        "height": 0.8,
        "width": 0.8,
        "x": 0.1,
        "y": 0.1
       },
       "content": {
        "cell": "4763b637-96be-4142-b006-744ea6d2daf7",
        "part": "whole"
       },
       "id": "de31917d-9fee-42f9-9467-a279c223e50c"
      }
     }
    },
    "e7f432bb-e6f0-42ac-8317-e44623463adf": {
     "id": "e7f432bb-e6f0-42ac-8317-e44623463adf",
     "prev": "33a19313-3ce5-4e03-9a7f-173174cd359c",
     "regions": {
      "71ef609c-17e1-4c01-bfbf-96e74c1b22ef": {
       "attrs": {
        "height": 0.8,
        "width": 0.8,
        "x": 0.1,
        "y": 0.1
       },
       "content": {
        "cell": "dccafd36-72a0-4550-961f-b9674ade2c8f",
        "part": "whole"
       },
       "id": "71ef609c-17e1-4c01-bfbf-96e74c1b22ef"
      },
      "cb2b8aa7-c8ad-4713-bede-588308f8635e": {
       "attrs": {
        "height": 0.4,
        "width": 0.8,
        "x": 0.1,
        "y": 0.5
       },
       "content": {
        "cell": "9a00820c-8f78-4399-94a5-03ae52fd7e09",
        "part": "whole"
       },
       "id": "cb2b8aa7-c8ad-4713-bede-588308f8635e"
      }
     }
    },
    "ec38bb4d-2fde-41bf-b772-d6bbefccb9a9": {
     "id": "ec38bb4d-2fde-41bf-b772-d6bbefccb9a9",
     "prev": "3e6902b1-afc3-406e-a386-81f9f919d0c5",
     "regions": {
      "38df94c4-4fe9-4fd9-86fe-c504996c6a5a": {
       "attrs": {
        "height": 0.8,
        "width": 0.8,
        "x": 0.1,
        "y": 0.1
       },
       "content": {
        "cell": "aa186c7f-af2f-4324-ad21-77cab32883ce",
        "part": "whole"
       },
       "id": "38df94c4-4fe9-4fd9-86fe-c504996c6a5a"
      },
      "753ec772-9a38-4499-83c6-fa9eddf6a2da": {
       "attrs": {
        "height": 0.4,
        "width": 0.8,
        "x": 0.1,
        "y": 0.5
       },
       "content": {
        "cell": "2b377fef-ecfe-471e-b6c3-6d495675d817",
        "part": "whole"
       },
       "id": "753ec772-9a38-4499-83c6-fa9eddf6a2da"
      }
     }
    },
    "ef60bcdf-c72a-457b-a7ba-efa0dc39cd31": {
     "id": "ef60bcdf-c72a-457b-a7ba-efa0dc39cd31",
     "prev": "e7f432bb-e6f0-42ac-8317-e44623463adf",
     "regions": {
      "82007b58-f09f-4ae7-8b27-f98d8bee50cc": {
       "attrs": {
        "height": 0.8,
        "width": 0.8,
        "x": 0.1,
        "y": 0.1
       },
       "content": {
        "cell": "fb4634da-9820-48ed-a726-d172da92a606",
        "part": "whole"
       },
       "id": "82007b58-f09f-4ae7-8b27-f98d8bee50cc"
      },
      "dcb8fab9-7b44-4e95-840e-1c4b84895c32": {
       "attrs": {
        "height": 0.4,
        "width": 0.8,
        "x": 0.1,
        "y": 0.5
       },
       "content": {
        "cell": "6d86e269-cce2-40a2-afb6-03d2610ad97c",
        "part": "whole"
       },
       "id": "dcb8fab9-7b44-4e95-840e-1c4b84895c32"
      }
     }
    }
   },
   "themes": {
    "default": "ed33b8de-b29d-4d3f-8e75-ff6dfa9ad4c1",
    "theme": {
     "ed33b8de-b29d-4d3f-8e75-ff6dfa9ad4c1": {
      "backgrounds": {
       "backgroundColor": {
        "background-color": "backgroundColor",
        "id": "backgroundColor"
       }
      },
      "id": "ed33b8de-b29d-4d3f-8e75-ff6dfa9ad4c1",
      "palette": {
       "backgroundColor": {
        "id": "backgroundColor",
        "rgb": [
         34,
         34,
         34
        ]
       },
       "headingColor": {
        "id": "headingColor",
        "rgb": [
         238,
         238,
         238
        ]
       },
       "linkColor": {
        "id": "linkColor",
        "rgb": [
         170,
         34,
         51
        ]
       },
       "mainColor": {
        "id": "mainColor",
        "rgb": [
         238,
         238,
         238
        ]
       }
      },
      "rules": {
       "a": {
        "color": "linkColor"
       },
       "h1": {
        "color": "headingColor",
        "font-family": "Ubuntu",
        "font-size": 7
       },
       "h2": {
        "color": "headingColor",
        "font-family": "Ubuntu",
        "font-size": 5
       },
       "h3": {
        "color": "headingColor",
        "font-family": "Ubuntu",
        "font-size": 3.75
       },
       "h4": {
        "color": "headingColor",
        "font-family": "Ubuntu",
        "font-size": 3
       },
       "h5": {
        "color": "headingColor",
        "font-family": "Ubuntu"
       },
       "h6": {
        "color": "headingColor",
        "font-family": "Ubuntu"
       },
       "h7": {
        "color": "headingColor",
        "font-family": "Ubuntu"
       },
       "li": {
        "color": "mainColor",
        "font-family": "Ubuntu",
        "font-size": 5
       },
       "p": {
        "color": "mainColor",
        "font-family": "Ubuntu",
        "font-size": 5
       }
      },
      "text-base": {
       "color": "mainColor",
       "font-family": "Ubuntu",
       "font-size": 5
      }
     }
    }
   }
  }
 },
 "nbformat": 4,
 "nbformat_minor": 2
}
